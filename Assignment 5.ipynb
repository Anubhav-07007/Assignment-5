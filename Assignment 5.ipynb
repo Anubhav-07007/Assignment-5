{
 "cells": [
  {
   "cell_type": "code",
   "execution_count": 1,
   "id": "7508a5c6",
   "metadata": {},
   "outputs": [
    {
     "name": "stdout",
     "output_type": "stream",
     "text": [
      "<class 'dict'>\n"
     ]
    }
   ],
   "source": [
    "# 1. What does an empty dictionary&#39;s code look like?\n",
    "\n",
    "a={}\n",
    "\n",
    "print(type(a))"
   ]
  },
  {
   "cell_type": "code",
   "execution_count": 2,
   "id": "79e847d0",
   "metadata": {},
   "outputs": [
    {
     "data": {
      "text/plain": [
       "dict_values([42])"
      ]
     },
     "execution_count": 2,
     "metadata": {},
     "output_type": "execute_result"
    }
   ],
   "source": [
    "# 2. What is the value of a dictionary value with the key 'foo' and the value 42 :\n",
    "\n",
    "a={'foo':42}\n",
    "\n",
    "a.values()"
   ]
  },
  {
   "cell_type": "code",
   "execution_count": 4,
   "id": "a8980f55",
   "metadata": {},
   "outputs": [
    {
     "name": "stdout",
     "output_type": "stream",
     "text": [
      "[1, 2, 'anubhav', (1, 2, 3, 4), 10.3]\n",
      "{'k1': 'anubhav', 2: 100}\n"
     ]
    }
   ],
   "source": [
    "# What is the most significant distinction between a dictionary and a list?\n",
    "\n",
    "# list is collection of diffent data type\n",
    "# dictionary store value only key & value format\n",
    "\n",
    "l=[1,2,'anubhav',(1,2,3,4),10.3]\n",
    "\n",
    "dic={'k1':'anubhav',2:100}\n",
    "\n",
    "print(l)\n",
    "print(dic)"
   ]
  },
  {
   "cell_type": "code",
   "execution_count": 6,
   "id": "e4232810",
   "metadata": {},
   "outputs": [],
   "source": [
    "# 4. What happens if you try to access spam['foo'] if spam is {'bar':100}?\n",
    "\n",
    "spam={'bar':100}\n",
    "\n",
    " # spam['foo'] we are getting error, because there is no key under name of 'foo'"
   ]
  },
  {
   "cell_type": "code",
   "execution_count": 10,
   "id": "29e45a1b",
   "metadata": {},
   "outputs": [
    {
     "data": {
      "text/plain": [
       "dict_keys(['cat'])"
      ]
     },
     "execution_count": 10,
     "metadata": {},
     "output_type": "execute_result"
    }
   ],
   "source": [
    "# 5. If a dictionary is stored in spam, what is the difference between the expressions 'cat'; in spam and\n",
    "# 'cat'; in spam.keys()?\n",
    "\n",
    "\n",
    "spam={'cat':10}\n",
    "\n",
    "spam.keys()"
   ]
  },
  {
   "cell_type": "code",
   "execution_count": 12,
   "id": "58453337",
   "metadata": {},
   "outputs": [
    {
     "data": {
      "text/plain": [
       "False"
      ]
     },
     "execution_count": 12,
     "metadata": {},
     "output_type": "execute_result"
    }
   ],
   "source": [
    "\"\"\" 7. What is a shortcut for the following code?\n",
    "if 'color' not in spam:\n",
    "spam['color']='black'\"\"\"\n",
    "\n",
    "\n",
    "spam={'color':'black'}\n",
    "\n",
    "spam['color']!='black'"
   ]
  },
  {
   "cell_type": "code",
   "execution_count": 16,
   "id": "46e4d253",
   "metadata": {},
   "outputs": [
    {
     "name": "stdout",
     "output_type": "stream",
     "text": [
      "dict_values([10, 20, 30])\n"
     ]
    }
   ],
   "source": [
    "# How do you 'pretty print' dictionary values using which module and function?\n",
    "\n",
    "a={'k1':10,'k2':20,'k3':30}\n",
    "\n",
    "print(a.values())"
   ]
  },
  {
   "cell_type": "code",
   "execution_count": null,
   "id": "8d78ef8b",
   "metadata": {},
   "outputs": [],
   "source": []
  }
 ],
 "metadata": {
  "kernelspec": {
   "display_name": "Python 3 (ipykernel)",
   "language": "python",
   "name": "python3"
  },
  "language_info": {
   "codemirror_mode": {
    "name": "ipython",
    "version": 3
   },
   "file_extension": ".py",
   "mimetype": "text/x-python",
   "name": "python",
   "nbconvert_exporter": "python",
   "pygments_lexer": "ipython3",
   "version": "3.9.7"
  }
 },
 "nbformat": 4,
 "nbformat_minor": 5
}
